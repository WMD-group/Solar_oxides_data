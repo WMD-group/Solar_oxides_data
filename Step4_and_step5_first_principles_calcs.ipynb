{
 "cells": [
  {
   "cell_type": "markdown",
   "metadata": {},
   "source": [
    "# High-throughput first-principles calculations\n",
    "This notebook outlines the procedure for calculating the thermodynamic stabiliy of the structures using DFT, and the bandgap using hybrid-dft. It's implementation requires: \n",
    "- [Atomate](http://atomate.org) and [Fireworks](https://materialsproject.github.io/fireworks/)\n",
    "- A [MongoDB](https://www.mongodb.com) database setup to use as a Fireworks Launchpad\n",
    "- Access to the [Vienna Ab-initio Simulation Package (VASP)](https://www.vasp.at/)\n",
    "\n",
    "\n",
    "**You can [skip forward](#analysis) where the final vasp output files are read in to get bandgaps of final candidate materials.**"
   ]
  },
  {
   "cell_type": "code",
   "execution_count": 1,
   "metadata": {},
   "outputs": [],
   "source": [
    "### Imports ###\n",
    "import json\n",
    "import os\n",
    "from tqdm import tqdm\n",
    "from itertools import zip_longest\n",
    "\n",
    "from pymatgen import Structure, MPRester\n",
    "from pymatgen.analysis.phase_diagram import PhaseDiagram, PDEntry\n",
    "from pymatgen.analysis.reaction_calculator import ComputedReaction\n",
    "from pymatgen.entries.computed_entries import ComputedEntry\n",
    "from pymatgen.io.vasp.sets import DictSet\n",
    "from matgendb import QueryEngine\n",
    "\n",
    "from fireworks import LaunchPad\n",
    "from atomate.vasp.workflows.presets.core import wf_structure_optimization\n",
    "from atomate.vasp.powerups import add_modify_incar, add_additional_fields_to_taskdocs\n",
    "from pymatgen.io.vasp.outputs import Vasprun\n",
    "\n",
    "API_key = os.environ.get('MP_API_KEY')\n",
    "m = MPRester(API_key)"
   ]
  },
  {
   "cell_type": "markdown",
   "metadata": {},
   "source": [
    "## Thermodynamic stability\n",
    "We determine energy above the convex hull via the following procedure:\n",
    "1. Import the new compounds and submit them for structural relaxation calculations. \n",
    "2. Determine their competing phases and submit those for relaxation under the same calculation conditions. \n",
    "3. Use total energies of all relaxed structures to compute energy above the convex hull\n",
    "4. VASP input sets are created to calculate the bandgap of those that are within 0.1 eV of the convex hull.\n"
   ]
  },
  {
   "cell_type": "markdown",
   "metadata": {},
   "source": [
    "### Candidate compounds"
   ]
  },
  {
   "cell_type": "code",
   "execution_count": 2,
   "metadata": {},
   "outputs": [],
   "source": [
    "# Import structures\n",
    "with open('data/structures_published.json', 'r') as f:\n",
    "    quaternary_oxides_to_calc = json.load(f)\n",
    "\n",
    "# Convert back to pymatgen Structure objects\n",
    "quaternary_oxides_to_calc = [{'structure': Structure.from_dict(i)} \n",
    "                             for i in quaternary_oxides_to_calc]"
   ]
  },
  {
   "cell_type": "code",
   "execution_count": null,
   "metadata": {},
   "outputs": [],
   "source": [
    "# Set up fireworks launchpad \n",
    "launchpad = LaunchPad(host=\"YOUR_HOSTNAME\", port=27017, \n",
    "                      username=\"username\", password=\"password\", \n",
    "                      name=\"databasename\")\n",
    "\n",
    "# Add unique indentifiers\n",
    "for n, i in enumerate(quaternary_oxides_to_calc):\n",
    "    i['solaroxide_id'] = 'solaroxide_candidate_{0}'.format(n)\n",
    "\n",
    "# Add each structure to the launchpad as a modified workflow \n",
    "for i in quaternary_oxides_to_calc:\n",
    "    struct = i['structure']\n",
    "    orig_wf = wf_structure_optimization(struct)\n",
    "    modified_wf = add_modify_incar(orig_wf, modify_incar_params={'incar_update': {'EDIFFG': -0.1, 'ALGO': 'ALL',\n",
    "                                                            'EDIFF': 0.000001, 'ENCUT': 600,\n",
    "                                                            'KPAR': 3, 'NCORE': 24}})\n",
    "    modified_wf = add_additional_fields_to_taskdocs(modified_wf, \n",
    "                                                update_dict={'solaroxide_id': i['solaroxide_id']})\n",
    "\n",
    "    launchpad.add_wf(modified_wf)"
   ]
  },
  {
   "cell_type": "markdown",
   "metadata": {},
   "source": [
    "### Competing phases\n",
    "We use all compounds in the materials project associated with an ICSD entry as a pool of possible competing phases. We download these directly, which can take some time."
   ]
  },
  {
   "cell_type": "code",
   "execution_count": null,
   "metadata": {},
   "outputs": [],
   "source": [
    "def grouper(iterable, n, fillvalue=None):\n",
    "    #Collect data into fixed-length chunks or blocks\n",
    "    args = [iter(iterable)] * n\n",
    "    return zip_longest(fillvalue=fillvalue, *args)\n",
    "\n",
    "# Submit MP query\n",
    "ICSD_ids = m.query(criteria={'icsd_ids.0': {'$exists': True}}, properties=['task_id'])\n",
    "ICSD_ids = [e['task_id'] for e in ICSD_ids]\n",
    "MP_competing_phases = []\n",
    "mpid_groups = [g for g in grouper(ICSD_ids, 1000)]\n",
    "\n",
    "# Download structures and associated energies in chunks\n",
    "for group in tqdm(mpid_groups):\n",
    "    mpid_list = list(filter(None, group))\n",
    "    entries = m.query({\"task_id\": {\"$in\": mpid_list}}, ['task_id','final_energy_per_atom',\n",
    "                                                        'structure'])\n",
    "    MP_competing_phases.extend(entries)\n",
    "\n",
    "# Rename some dict keys\n",
    "all_competing_phases = [{'structure': i['structure'], 'id': i['task_id'],\n",
    "                        'energy_atom': i['final_energy_per_atom']} for i in MP_competing_phases]"
   ]
  },
  {
   "cell_type": "code",
   "execution_count": null,
   "metadata": {},
   "outputs": [],
   "source": [
    "# Add chemsys and tot_energy keys to both list of candidates and competing phases\n",
    "for i in quaternary_oxides_to_calc:\n",
    "    i['chemsys'] = i['structure'].composition.element_composition.elements\n",
    "    # Dummy, large energy as we don't know it yet\n",
    "    i['tot_energy'] = 50.\n",
    "\n",
    "for struc in all_competing_phases:\n",
    "    struc['chemsys'] = set(struc['structure'].composition.element_composition.elements)\n",
    "    struc['tot_energy'] = struc['structure'].composition.num_atoms * struc['energy_atom']"
   ]
  },
  {
   "cell_type": "code",
   "execution_count": null,
   "metadata": {},
   "outputs": [],
   "source": [
    "# Create phase diagram objects to get potential decomposition products\n",
    "for candidate in quaternary_oxides_to_calc:\n",
    "    # Get competing phases for this system\n",
    "    competition = [i for i in all_competing_phases if i['chemsys'].issubset(candidate['chemsys'])]\n",
    "    entries = [PDEntry(i['structure'].composition, i['tot_energy'],\n",
    "                      name=i['id']) for i in competition]\n",
    "    \n",
    "    # Add the new system in\n",
    "    new_entry = PDEntry(candidate['structure'].composition.element_composition, \n",
    "                          candidate['tot_energy'], attribute = 'new') \n",
    "    entries.append(new_entry)\n",
    "    \n",
    "    # Make phase diagram and get decomposition products\n",
    "    pd = PhaseDiagram(entries)\n",
    "    decomp_prods = pd.get_decomp_and_e_above_hull(new_entry)\n",
    "    decomp_ids = [i.name for i in decomp_prods[0].keys()]\n",
    "    candidate['decomp_prods'] = [{ 'structure': i['structure'], \n",
    "                                 'tot_energy': i['tot_energy'],\n",
    "                                 'id': i['id']} for i in competition if i['id'] in decomp_ids]"
   ]
  },
  {
   "cell_type": "code",
   "execution_count": null,
   "metadata": {},
   "outputs": [],
   "source": [
    "# Work out what set of decomposition products we need to calculate energies for\n",
    "decomp_prod_ids = []\n",
    "for i in quaternary_oxides_to_calc:\n",
    "    print(i['structure'].composition.reduced_formula)\n",
    "    for prod in i['decomp_prods']:\n",
    "        print(\"{0:10}   {1:10}   {2}\".format(prod['structure'].composition.reduced_formula, \n",
    "                                             prod['id'], prod['tot_energy']))\n",
    "        decomp_prod_ids.append(prod['id'])\n",
    "decomp_prod_ids = set(decomp_prod_ids)\n",
    "\n",
    "# Submit calcs in the same way as for candidate compounds\n",
    "decomp_prod_set = []\n",
    "for n,i in enumerate(decomp_prod_ids):\n",
    "    for j in all_competing_phases:\n",
    "        if i == j['id']:\n",
    "            struc = j['structure']\n",
    "    decomp_prod_set.append({'solaroxide_id': 'Solaroxide_decompprod_{}'.format(n),\n",
    "                            'MP_id': i, 'structure': struc })\n",
    "    \n",
    "for i in decomp_prod_set:\n",
    "    struc = i['structure']\n",
    "    orig_wf = wf_structure_optimization(struc)\n",
    "    modified_wf = add_modify_incar(orig_wf, modify_incar_params={'incar_update': {'EDIFFG': -0.1, 'ALGO': 'ALL',\n",
    "                                                            'EDIFF': 0.000001, 'ENCUT': 600,\n",
    "                                                            'KPAR': 3, 'NCORE': 24}})\n",
    "    modified_wf = add_additional_fields_to_taskdocs(modified_wf, \n",
    "                                                   update_dict={'DD_struc_id': i['DD_struc_id']})\n",
    "    launchpad.add_wf(modified_wf)"
   ]
  },
  {
   "cell_type": "markdown",
   "metadata": {},
   "source": [
    "## Analysis\n",
    "The total energies of candidates and competing phases can now be used to work out values of energy above the convex hull."
   ]
  },
  {
   "cell_type": "code",
   "execution_count": null,
   "metadata": {},
   "outputs": [],
   "source": [
    "# Set up query engine to get energies from database \n",
    "qe = QueryEngine(host=\"YOUR_HOSTNAME\" port=27017, database=\"databasename\", collection=\"tasks\", \n",
    "                 user=\"username\", password=\"password\")\n",
    "\n",
    "# Get candidate structure info\n",
    "candidate_strucs = qe.query(criteria= {'solaroxide_id': {'$regex': 'solaroxide_candidate'}}, \n",
    "                  properties=[\"formula_pretty\", \"task_id\", \"output.structure\", \n",
    "                              \"solaroxide_id\", \"output.energy\", \"output.energy_per_atom\"])\n",
    "candidate_strucs = list(candidate_strucs)\n",
    "\n",
    "# And of decomp products\n",
    "decomp_prod_set_DFT = qe.query(criteria= {'solaroxide_id': {'$regex': 'Solaroxide_decompprod_'}}, \n",
    "                  properties=[\"formula_pretty\", \"task_id\", \"output.structure\", \n",
    "                              \"DD_struc_id\", \"output.energy\", \"output.energy_per_atom\"])\n",
    "decomp_prod_set_DFT = list(decomp_prod_set_DFT)\n",
    "\n",
    "# Insert calculated total energy values into original list \n",
    "for i in quaternary_oxides_to_calc:\n",
    "    for e in candidate_strucs:\n",
    "        if e['solaroxide_id'] == i['solaroxide_id']:\n",
    "            i['tot_energy'] = e['output.energy']\n",
    "\n",
    "# And for decomp prods\n",
    "for i in quaternary_oxides_to_calc:\n",
    "    for prod in i['decomp_prods']:\n",
    "        form = prod['structure'].composition.reduced_formula\n",
    "        for e in decomp_prod_set_DFT:\n",
    "            if e['formula_pretty'] == form:\n",
    "                prod['tot_energy'] = e['output.energy']"
   ]
  },
  {
   "cell_type": "code",
   "execution_count": null,
   "metadata": {},
   "outputs": [],
   "source": [
    "# Calculate ehull values\n",
    "stable_count = 0\n",
    "metastable_count = 0\n",
    "unstable_count = 0\n",
    "ehull_values = []\n",
    "for struc in quaternary_oxides_to_calc:\n",
    "    comp = struc['structure'].formula\n",
    "    print(comp)\n",
    "    candidate_entry = [ComputedEntry(comp, struc['tot_energy'])]\n",
    "    spacegroup = struc['structure'].get_space_group_info()\n",
    "    \n",
    "    decomp_entries = []\n",
    "    for decomp_prod in struc['decomp_prods']:\n",
    "        comp_decomp = decomp_prod['structure'].composition\n",
    "        print(comp_decomp)\n",
    "        entry = ComputedEntry(comp_decomp, decomp_prod['tot_energy'])\n",
    "        decomp_entries.append(entry)\n",
    "        \n",
    "    # Use the pymatgen reaction tool \n",
    "    # This energy is calculated from the reduced formulas as written in the reaction\n",
    "    reaction = ComputedReaction(candidate_entry, decomp_entries)\n",
    "    ehull = -reaction.calculated_reaction_energy/reaction.all_comp[0].num_atoms\n",
    "    struc['ehull_DFT'] = ehull\n",
    "    struc['spacegroup'] = spacegroup[0]\n",
    "    \n",
    "    print(\"Reaction deltaE {0:7.2f}  |   {1}  | e_hull/atom  {2:.3f}\".format(reaction.calculated_reaction_energy, reaction,\n",
    "                                                                        ehull))\n",
    "    print('------------------------- -----------------------------------')\n",
    "    print(\"Candidate: {0:8}  num_atoms (POSCAR): {1}  Energy (OUTCAR): {2:.2f}\".format(candidate_entry[0].composition.reduced_formula,\n",
    "                                                                                           int(candidate_entry[0].composition.num_atoms),\n",
    "                                                                                          candidate_entry[0].energy))\n",
    "    for decomp_entry in decomp_entries:\n",
    "        print(\"Product:   {0:8}  num_atoms (POSCAR): {1:2}  Energy (OUTCAR): {2:.2f}\".format(decomp_entry.composition.reduced_formula,\n",
    "                                                                                           int(decomp_entry.composition.num_atoms),\n",
    "                                                                                          decomp_entry.energy))\n",
    "    print(\"=============================================================\")\n",
    "    print(' ')\n",
    "    if ehull < 0:\n",
    "        stable_count += 1 \n",
    "    elif ehull > 0.1:\n",
    "        unstable_count += 1 \n",
    "    else:\n",
    "        metastable_count += 1\n",
    "        \n",
    "print ('*******************************')\n",
    "print(\"Total Stable:     {0:3}    e_hull = 0 eV\".format(stable_count))\n",
    "print(\"Total metastable: {0:3}    0 < e_hull < 0.l eV\".format(metastable_count))\n",
    "print(\"Total unstable:   {0:3}    e_hull > 0.1 eV\".format(unstable_count))\n",
    "print ('*******************************')"
   ]
  },
  {
   "cell_type": "markdown",
   "metadata": {},
   "source": [
    "## Bandgap calculation\n",
    "Finally, we generate vasp input files of the metastable and stable compositions to calculate the bandgap."
   ]
  },
  {
   "cell_type": "code",
   "execution_count": null,
   "metadata": {},
   "outputs": [],
   "source": [
    "meta_and_stable = [i for i in quaternary_oxides_to_calc if i['ehull_DFT'] <= 0.1]\n",
    "\n",
    "# Insert relaxed structure into metastable results\n",
    "for i in meta_and_stable:\n",
    "    for e in candidate_strucs:\n",
    "        if e['solaroxide_id'] == i['solaroxide_id']:\n",
    "            i['relaxed_structure'] = Structure.from_dict(e['output.structure'])\n",
    "\n",
    "# Define the calculation parameters \n",
    "calc_config = {'INCAR': {'ALGO': 'ALL', 'GGA': 'PE', 'EDIFF': 1e-06, 'EDIFFG': -0.01, 'ENMAX': 550,\n",
    "                  'ISMEAR': 0, 'ISPIN': 2, 'LORBIT': 11, 'LREAL': 'AUTO', 'NELM': 100, \n",
    "                  'NSW': 0, 'PREC': 'Accurate', 'SIGMA': 0.1, 'NCORE': 24, 'KPAR': 8,\n",
    "                  'LHFCALC': '.TRUE.', 'PRECFOCK': 'fast', 'AEXX': 0.25, \n",
    "                  'TIME': 0.30, 'HFSCREEN': 0.207,\n",
    "                 'MAGMOM': {'Ce': 5, 'Ce3+': 1, 'Co': 5, 'Co3+': 0.6, 'Co4+': 1, 'Cr': 5, \n",
    "                            'Dy3+': 5, 'Er3+': 3, 'Eu': 10, 'Eu2+': 7, 'Eu3+': 6, 'Fe': 5, \n",
    "                            'Gd3+': 7, 'Ho3+': 4, 'La3+': 0.6, 'Lu3+': 0.6, 'Mn': 5, 'Mn3+': 4, \n",
    "                            'Mn4+': 3, 'Mo': 5, 'Nd3+': 3, 'Ni': 5, 'Pm3+': 4, 'Pr3+': 2, 'Sm3+': 5, \n",
    "                            'Tb3+': 6, 'Tm3+': 2, 'V': 5, 'W': 5, 'Yb3+': 1}},\n",
    "        'KPOINTS': {'reciprocal_density': 64}, \n",
    "        'POTCAR': {'Ac': 'Ac', 'Ag': 'Ag', 'Al': 'Al', 'Ar': 'Ar', 'As': 'As', 'Au': 'Au', 'B': 'B', \n",
    "                   'Ba': 'Ba_sv', 'Be': 'Be_sv', 'Bi': 'Bi', 'Br': 'Br', 'C': 'C', 'Ca': 'Ca_sv', \n",
    "                   'Cd': 'Cd', 'Ce': 'Ce', 'Cl': 'Cl', 'Co': 'Co', 'Cr': 'Cr_pv', 'Cs': 'Cs_sv', \n",
    "                   'Cu': 'Cu_pv', 'Dy': 'Dy_3', 'Er': 'Er_3', 'Eu': 'Eu', 'F': 'F', 'Fe': 'Fe_pv', \n",
    "                   'Ga': 'Ga_d', 'Gd': 'Gd', 'Ge': 'Ge_d', 'H': 'H', 'He': 'He', 'Hf': 'Hf_pv', \n",
    "                   'Hg': 'Hg', 'Ho': 'Ho_3', 'I': 'I', 'In': 'In_d', 'Ir': 'Ir', 'K': 'K_sv', \n",
    "                   'Kr': 'Kr', 'La': 'La', 'Li': 'Li_sv', 'Lu': 'Lu_3', 'Mg': 'Mg_pv', 'Mn': \n",
    "                   'Mn_pv', 'Mo': 'Mo_pv', 'N': 'N', 'Na': 'Na_pv', 'Nb': 'Nb_pv', 'Nd': 'Nd_3', \n",
    "                   'Ne': 'Ne', 'Ni': 'Ni_pv', 'Np': 'Np', 'O': 'O', 'Os': 'Os_pv', 'P': 'P', \n",
    "                   'Pa': 'Pa', 'Pb': 'Pb_d', 'Pd': 'Pd', 'Pm': 'Pm_3', 'Pr': 'Pr_3', 'Pt': 'Pt', \n",
    "                   'Pu': 'Pu', 'Rb': 'Rb_sv', 'Re': 'Re_pv', 'Rh': 'Rh_pv', 'Ru': 'Ru_pv', 'S': 'S', \n",
    "                   'Sb': 'Sb', 'Sc': 'Sc_sv', 'Se': 'Se', 'Si': 'Si', 'Sm': 'Sm_3', 'Sn': 'Sn_d', \n",
    "                   'Sr': 'Sr_sv', 'Ta': 'Ta_pv', 'Tb': 'Tb_3', 'Tc': 'Tc_pv', 'Te': 'Te', 'Th': 'Th', \n",
    "                   'Ti': 'Ti_pv', 'Tl': 'Tl_d', 'Tm': 'Tm_3', 'U': 'U', 'V': 'V_pv', 'W': 'W_pv', \n",
    "                   'Xe': 'Xe', 'Y': 'Y_sv', 'Yb': 'Yb_2', 'Zn': 'Zn', 'Zr': 'Zr_sv'}}\n",
    "\n",
    "# Distribute the necessary files\n",
    "for n,i in enumerate(meta_and_stable):\n",
    "    dirname = './BG_CALCS/{0}'.format(i['solaroxide_id'])\n",
    "    if not os.path.exists(dirname):\n",
    "        os.makedirs(dirname)\n",
    "\n",
    "    v  = DictSet(i['relaxed_structure'], config_dict = calc_config)\n",
    "    v.write_input(dirname)"
   ]
  },
  {
   "cell_type": "markdown",
   "metadata": {},
   "source": [
    "The generated sets of vasp input files are run, then outputs are parsed below."
   ]
  },
  {
   "cell_type": "markdown",
   "metadata": {},
   "source": [
    "<a id='analysis'></a>\n",
    "## Bandgap values"
   ]
  },
  {
   "cell_type": "code",
   "execution_count": 3,
   "metadata": {},
   "outputs": [
    {
     "name": "stdout",
     "output_type": "stream",
     "text": [
      "data/BG_CALCS .....\n",
      "Solaroxides_June18_0 MgFe(SO4)2 True True 4.065099999999999\n",
      "Solaroxides_June18_125 Li2MnSiO5 True True 2.2393\n",
      "Solaroxides_June18_188 MnCd(GeO3)2 True True 2.523\n",
      "Solaroxides_June18_189 MnCd(GeO3)2 True True 2.4728999999999997\n",
      "Solaroxides_June18_190 MnCd(GeO3)2 True True 1.7599999999999998\n",
      "Solaroxides_June18_197 ZrMnSi2O7 True True 4.367900000000001\n",
      "Solaroxides_June18_203 ZrMnSi2O7 True True 4.320499999999999\n",
      "Solaroxides_June18_204 ZrMnSi2O7 True True 3.9518999999999993\n",
      "Solaroxides_June18_205 ZrMnSi2O7 True True 4.326700000000001\n",
      "Solaroxides_June18_206 ZrMnSi2O7 True True 4.3994\n",
      "Solaroxides_June18_207 ZrMnSi2O7 True True 5.1192\n",
      "Solaroxides_June18_209 Na2YFeO4 True True 4.2658\n",
      "Solaroxides_June18_210 Na2YFeO4 True True 4.331200000000001\n",
      "Solaroxides_June18_216 MnAg(SeO3)2 True True 2.314\n",
      "Solaroxides_June18_228 Li2TiMnO4 True True 4.1019\n",
      "Solaroxides_June18_229 Li2TiMnO4 True True 4.0466\n",
      "Solaroxides_June18_230 Li2TiMnO4 True True 4.1851\n",
      "Solaroxides_June18_231 Li2TiMnO4 True True 4.2313\n",
      "Solaroxides_June18_232 Li2TiMnO4 True True 4.2136000000000005\n",
      "Solaroxides_June18_233 Li2TiMnO4 True True 4.5785\n",
      "Solaroxides_June18_234 Li2TiMnO4 True True 4.0462\n",
      "Solaroxides_June18_38 NaCaFeO3 True True 3.7293\n",
      "Solaroxides_June18_6 MgFe(SO4)2 True True 4.1477\n"
     ]
    }
   ],
   "source": [
    "# Bandgap analysis\n",
    "directory = 'data/BG_CALCS'\n",
    "print(directory,\".....\")\n",
    "for root, subdirs, files in os.walk(directory):\n",
    "    if subdirs:\n",
    "        for subdir in subdirs:\n",
    "            try:\n",
    "                vasprun = Vasprun(os.path.join(directory,subdir,'vasprun.xml'))\n",
    "                print(subdir, vasprun.as_dict()['pretty_formula'], \n",
    "                      vasprun.converged_electronic, vasprun.converged_ionic, \n",
    "                      vasprun.eigenvalue_band_properties[0])\n",
    "            except:\n",
    "                print('XXXX NOPE for {0} {1}'.format(subdir,\n",
    "                                                   vasprun.as_dict()['pretty_formula']))"
   ]
  },
  {
   "cell_type": "code",
   "execution_count": null,
   "metadata": {},
   "outputs": [],
   "source": []
  }
 ],
 "metadata": {
  "kernelspec": {
   "display_name": "Python 3",
   "language": "python",
   "name": "python3"
  },
  "language_info": {
   "codemirror_mode": {
    "name": "ipython",
    "version": 3
   },
   "file_extension": ".py",
   "mimetype": "text/x-python",
   "name": "python",
   "nbconvert_exporter": "python",
   "pygments_lexer": "ipython3",
   "version": "3.6.8"
  }
 },
 "nbformat": 4,
 "nbformat_minor": 2
}
